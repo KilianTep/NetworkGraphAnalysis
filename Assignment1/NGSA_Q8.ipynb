{
 "cells": [
  {
   "cell_type": "code",
   "execution_count": 9,
   "metadata": {
    "collapsed": true
   },
   "outputs": [],
   "source": [
    "import numpy as np\n",
    "import networkx as nx\n",
    "import matplotlib.pyplot as plt"
   ]
  },
  {
   "cell_type": "markdown",
   "metadata": {},
   "source": [
    "### (c) [2 p] Compute the mean degree from the graph that you have generated and visualize the degree distribution of the graph. Discuss briefly your observations."
   ]
  },
  {
   "cell_type": "code",
   "execution_count": 3,
   "metadata": {
    "collapsed": true
   },
   "outputs": [],
   "source": [
    "#generates erdos reny random graph\n",
    "G = nx.fast_gnp_random_graph(1000,0.009)\n",
    "nodes = G.nodes()"
   ]
  },
  {
   "cell_type": "code",
   "execution_count": 18,
   "metadata": {},
   "outputs": [
    {
     "name": "stdout",
     "output_type": "stream",
     "text": [
      "The mean degree of the graph is: 8.95\n"
     ]
    },
    {
     "data": {
      "image/png": "[encoded data removed]",
      "text/plain": [
       "<matplotlib.figure.Figure at 0x10a0624e0>"
      ]
     },
     "metadata": {},
     "output_type": "display_data"
    },
    {
     "name": "stdout",
     "output_type": "stream",
     "text": [
      "Observation:\n",
      "The degree distribution seems to follow a normal distribution, which is not really relevant as most networks follow a high-tail degree distribution\n"
     ]
    }
   ],
   "source": [
    "#gets degree in sorted order\n",
    "degree_sequence  =list(dict(G.degree(nodes)).values())\n",
    "mean_degree = np.mean(degree_sequence)\n",
    "\n",
    "print(\"The mean degree of the graph is:\", mean_degree)\n",
    "plt.hist(degree_sequence,bins=18)\n",
    "plt.xlabel('Nodes')\n",
    "plt.ylabel('Degree')\n",
    "plt.title('Degree distribution of Erdos Reny random graph ')\n",
    "plt.show()\n",
    "\n",
    "print(\"Observation:\")\n",
    "print(\"The degree distribution seems to follow a normal distribution, which is not really relevant as most networks follow a high-tail degree distribution\")"
   ]
  }
 ],
 "metadata": {
  "kernelspec": {
   "display_name": "Python 3",
   "language": "python",
   "name": "python3"
  },
  "language_info": {
   "codemirror_mode": {
    "name": "ipython",
    "version": 3
   },
   "file_extension": ".py",
   "mimetype": "text/x-python",
   "name": "python",
   "nbconvert_exporter": "python",
   "pygments_lexer": "ipython3",
   "version": "3.6.3"
  }
 },
 "nbformat": 4,
 "nbformat_minor": 2
}
