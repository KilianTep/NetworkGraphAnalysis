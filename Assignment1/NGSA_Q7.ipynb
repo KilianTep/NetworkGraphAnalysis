{
 "cells": [
  {
   "cell_type": "code",
   "execution_count": 1,
   "metadata": {
    "collapsed": true
   },
   "outputs": [],
   "source": [
    "import numpy as np\n",
    "import networkx as nx\n",
    "import matplotlib.pyplot as plt\n",
    "from numpy import linalg as LA\n",
    "import scipy.sparse as sparse"
   ]
  },
  {
   "cell_type": "code",
   "execution_count": 2,
   "metadata": {
    "collapsed": true
   },
   "outputs": [],
   "source": [
    "path = 'ca-GrQc.txt'\n",
    "#Initializing empty graph\n",
    "G = nx.Graph()           "
   ]
  },
  {
   "cell_type": "code",
   "execution_count": 3,
   "metadata": {
    "collapsed": true
   },
   "outputs": [],
   "source": [
    "nodes = []\n",
    "edgelist = []\n",
    "\n",
    "#adds all present nodes in list nodes and all edges in edge_list\n",
    "with open(path) as f:\n",
    "    for line in f:\n",
    "        if line[0] != '#':\n",
    "            line = line.strip()\n",
    "            FromNodeId, ToNodeId = line.split('\\t')\n",
    "            edge = (FromNodeId,ToNodeId)\n",
    "            edgelist.append(edge)\n",
    "            if FromNodeId not in nodes:\n",
    "                nodes.append(FromNodeId)\n",
    "            if ToNodeId not in nodes:\n",
    "                nodes.append(ToNodeId)\n",
    "                \n",
    "#add edges from list edges and nodes from list nodes\n",
    "G.add_nodes_from(nodes)\n",
    "G.add_edges_from(edgelist)\n"
   ]
  },
  {
   "cell_type": "markdown",
   "metadata": {},
   "source": [
    "### (a) [3 p] (Basic properties of the network). (1) Compute the following statistics: number of nodes, number of edges.\n",
    "\n",
    "### (2) If the graph is not connected: (i) find the number of connected components (CCs); (ii) plot the distribution of their sizes (similar to MSN’s connectivity shown in Lecture 1B, slide number 81).\n",
    "\n",
    "### (3) Extract the largest (i.e., giant) connected component (GCC), and then (i) find the number of nodes and edges of GCC and (ii) the fraction of nodes and edges of the whole graph that belong to GCC (e.g., 5% of the number of nodes are part of GCC). Discuss briefly your observation (2-3 lines)."
   ]
  },
  {
   "cell_type": "code",
   "execution_count": 4,
   "metadata": {},
   "outputs": [
    {
     "name": "stdout",
     "output_type": "stream",
     "text": [
      "(a).(1)\n",
      "The number of of nodes in the graph is 5242\n",
      "The number of edges in the graph is 14496 if we consider the graph to be undirected.\n"
     ]
    }
   ],
   "source": [
    "print(\"(a).(1)\")\n",
    "print(\"The number of of nodes in the graph is\", G.number_of_nodes())\n",
    "print(\"The number of edges in the graph is\", G.number_of_edges(),\"if we consider the graph to be undirected.\")"
   ]
  },
  {
   "cell_type": "code",
   "execution_count": 5,
   "metadata": {
    "collapsed": true
   },
   "outputs": [],
   "source": [
    "#stores list of connected components\n",
    "CCs = sorted(nx.connected_components(G),key = len, reverse=True)\n",
    "CClength = []\n",
    "dict_length = {}\n",
    "for CC in CCs:\n",
    "    CClength.append(len(CC))\n",
    "#Key: Size of connected component, Value: number of times this size occurs\n",
    "for length in CClength:\n",
    "    dict_length[length] = CClength.count(length)\n",
    "    "
   ]
  },
  {
   "cell_type": "code",
   "execution_count": 6,
   "metadata": {},
   "outputs": [
    {
     "name": "stdout",
     "output_type": "stream",
     "text": [
      "(a). (2). (i)\n",
      "The number of connected components is 355\n",
      "\n",
      "(a). (2). (ii)\n"
     ]
    },
    {
     "data": {
      "image/png": "[encoded data removed]",
      "text/plain": [
       "<matplotlib.figure.Figure at 0x150e4b6438>"
      ]
     },
     "metadata": {},
     "output_type": "display_data"
    }
   ],
   "source": [
    "#shows distribution of connected components\n",
    "print(\"(a). (2). (i)\")\n",
    "print(\"The number of connected components is\", nx.number_connected_components(G))\n",
    "print(\"\")\n",
    "print((\"(a). (2). (ii)\")) \n",
    "plt.plot(dict_length.keys(),dict_length.values(), 'ro')\n",
    "plt.title(\"Connectivity distribution\")\n",
    "plt.xlabel(\"Size of connected components\")\n",
    "plt.ylabel(\"Count\")\n",
    "plt.show()"
   ]
  },
  {
   "cell_type": "code",
   "execution_count": 17,
   "metadata": {},
   "outputs": [
    {
     "name": "stdout",
     "output_type": "stream",
     "text": [
      "(a). (3) (i)\n",
      "The connected component with the largest size has 4158 nodes.\n",
      "It has 13428 edges.\n",
      "\n",
      "(a). (3) (ii)\n",
      "It contains 79.32086989698588 % of all nodes.\n",
      "It contains 92.63245033112582 % of all edges.\n",
      "\n",
      "Observation:\n",
      "From the observation of the largest connected component, we can deduce that most of the academic collaboration occurs in one particular academic sub_network. One particular connected component has the most actors and the and the most connections, which means that a significant majority of activity occurs in it. This seems to follow a power law distribution.\n"
     ]
    }
   ],
   "source": [
    "GCC = max(nx.connected_component_subgraphs(G),key=len)\n",
    "print(\"(a). (3) (i)\")\n",
    "print(\"The connected component with the largest size has\",GCC.number_of_nodes(),\"nodes.\")\n",
    "print(\"It has\",GCC.number_of_edges(),\"edges.\")\n",
    "print(\"\")\n",
    "\n",
    "print(\"(a). (3) (ii)\")\n",
    "print(\"It contains\", (GCC.number_of_nodes())/(G.number_of_nodes())*100,\"% of all nodes.\")\n",
    "print(\"It contains\", (GCC.number_of_edges())/(G.number_of_edges())*100,\"% of all edges.\")\n",
    "print(\"\")\n",
    "\n",
    "print(\"Observation:\")\n",
    "print(\"From the observation of the largest connected component, we can deduce that most of the academic collaboration occurs in one particular academic sub_network. One particular connected component has the most actors and the and the most connections, which means that a significant majority of activity occurs in it. This seems to follow a power law distribution.\")"
   ]
  },
  {
   "cell_type": "markdown",
   "metadata": {},
   "source": [
    "### (b) [5 p] (Analysis of the degree distribution). (1) Find the minimum, maximum, median and mean degree of the nodes of the graph. What do you observe (please, discuss briefly in 1-2 lines)? \n",
    "\n",
    "### (2) Visualize (appropriately) the degree distribution of the graph. What is the type of the degree distribution and what are the parameters? (You can use freely available software that was discussed in class)."
   ]
  },
  {
   "cell_type": "code",
   "execution_count": 8,
   "metadata": {},
   "outputs": [
    {
     "name": "stdout",
     "output_type": "stream",
     "text": [
      "(b). (1)\n",
      "The minimum degree of the nodes is 1\n",
      "The maximum degree of the nodes is 81\n",
      "The mean degree of the nodes is 5.530713468141931\n",
      "The median degree of the nodes is 3.0\n",
      "\n",
      "Observation:\n",
      "Based on the maximum value vs the mean and the median, we can deduce that the distribution seems heavily skewed on one tail.\n",
      "\n"
     ]
    }
   ],
   "source": [
    "degree_sequence  = sorted(list(dict(G.degree(nodes)).values()),reverse=True)\n",
    "print(\"(b). (1)\")\n",
    "print(\"The minimum degree of the nodes is\",min(degree_sequence))\n",
    "print(\"The maximum degree of the nodes is\",max(degree_sequence))\n",
    "print(\"The mean degree of the nodes is\", np.mean(degree_sequence))\n",
    "print(\"The median degree of the nodes is\", np.median(degree_sequence))\n",
    "print(\"\")\n",
    "print(\"Observation:\")\n",
    "print(\"Based on the maximum value vs the mean and the median, we can deduce that the distribution seems heavily skewed on one tail.\")"
   ]
  },
  {
   "cell_type": "code",
   "execution_count": 22,
   "metadata": {},
   "outputs": [
    {
     "name": "stdout",
     "output_type": "stream",
     "text": [
      "(b). (2)\n"
     ]
    },
    {
     "data": {
      "image/png": "[encoded data removed]",
      "text/plain": [
       "<matplotlib.figure.Figure at 0x150fe0abe0>"
      ]
     },
     "metadata": {},
     "output_type": "display_data"
    },
    {
     "name": "stdout",
     "output_type": "stream",
     "text": [
      "Based on the graph, it seems that the degree distribution follows a power-law degree distribution.\n",
      "The average clustering coefficient of the graph is 0.529635811052136\n",
      "\n",
      "Parameters of the distribution:\n",
      "Fitted power-law distribution on discrete data\n",
      "\n",
      "Exponent (alpha)  = 2.112615\n",
      "Cutoff (xmin)     = 3.000000\n",
      "\n",
      "Log-likelihood    = -8019.892429\n",
      "\n",
      "H0: data was drawn from the fitted distribution\n",
      "\n",
      "KS test statistic = 0.043350\n",
      "p-value           = 0.000033\n",
      "\n",
      "H0 rejected at significance level 0.05\n"
     ]
    }
   ],
   "source": [
    "print(\"(b). (2)\")\n",
    "plt.loglog(degree_sequence,'b-',marker = 'o')\n",
    "plt.title(\"Degree rank plot\")\n",
    "plt.ylabel(\"degree\")\n",
    "plt.xlabel(\"rank\")\n",
    "# # draw graph in inset\n",
    "# plt.axes([0.45,0.45,0.45,0.45])\n",
    "# pos=nx.spring_layout(G)\n",
    "# plt.axis('off')\n",
    "# nx.draw_networkx_nodes(G,pos,node_size=20)\n",
    "# nx.draw_networkx_edges(G,pos,alpha=0.4)\n",
    "\n",
    "#plt.savefig(\"degree_histogram.png\")\n",
    "plt.show()\n",
    "print(\"Based on the graph, it seems that the degree distribution follows a power-law degree distribution.\")\n",
    "print(\"The average clustering coefficient of the graph is\",nx.average_clustering(G))\n",
    "print(\"\")\n",
    "\n",
    "import igraph as ig\n",
    "fit = ig.power_law_fit(degree_sequence)\n",
    "print(\"Parameters of the distribution:\")\n",
    "print(fit)"
   ]
  },
  {
   "cell_type": "code",
   "execution_count": 18,
   "metadata": {},
   "outputs": [
    {
     "name": "stdout",
     "output_type": "stream",
     "text": [
      "(c). (1)\n",
      "The number of triangles in the GCC is 47779.0\n",
      "\n",
      "(c). (2)\n"
     ]
    },
    {
     "data": {
      "image/png": "[encoded data removed]",
      "text/plain": [
       "<matplotlib.figure.Figure at 0x150fd11908>"
      ]
     },
     "metadata": {},
     "output_type": "display_data"
    },
    {
     "name": "stdout",
     "output_type": "stream",
     "text": [
      "Observation:\n",
      "The distribution shows a pattern that is heavily skewed to the left. This means that many nodes tend to participate in very few triangles.\n",
      "We can infer that the distribution of triangles follows a power-law distribution\n"
     ]
    }
   ],
   "source": [
    "print(\"(c). (1)\")\n",
    "\n",
    "#stores the number of triangles. We divide by 3 because networkx counts each triangle 3 times\n",
    "triangle_num = sum(nx.triangles(GCC).values())/3\n",
    "print(\"The number of triangles in the GCC is\",triangle_num)\n",
    "print(\"\")\n",
    "\n",
    "print(\"(c). (2)\")\n",
    "triangle_sequences = list(nx.triangles(GCC).values())\n",
    "plt.figure(figsize=(20,10))\n",
    "plt.hist(triangle_sequences,bins=20)\n",
    "plt.title(\"Triangle participation distribution\")\n",
    "plt.ylabel(\"Number of nodes\")\n",
    "plt.xlabel(\"Number of triangles\")\n",
    "plt.show()\n",
    "\n",
    "print(\"Observation:\")\n",
    "print(\"The distribution shows a pattern that is heavily skewed to the left. This means that many nodes tend to participate in very few triangles.\")\n",
    "print(\"We can infer that the distribution of triangles follows a power-law distribution\")"
   ]
  },
  {
   "cell_type": "markdown",
   "metadata": {},
   "source": [
    "### (d) [7 p] (Spectral counting of triangles). In Question 3, you have been asked to express the total number of triangles ∆(G) using information about the eigenvalues of the adjacency matrix of the graph. Here, you should compute the number of triangles in the GCC of the graph using the eigenvalues of the corresponding adjacency matrix (again, consider that your graph G is the GCC). In order to compute exactly ∆(G), we need to compute the whole spectrum of the adjacency matrix, which can be a computational bottleneck (why?). Here, we argue that we can approximate ∆(G) using the top-k (k ≪ |V |) largest eigenvalues of the adjacency matrix, i.e., ∆(G) ≈ ∆ ̃ k (G), where ∆ ̃ k (G) is the spectral computation of the number of triangles, using only the top-k eigenvalues of the adjacency matrix. \n",
    "\n",
    "### (1) Why is this happening? Explain your answer, giving specific arguments. [Hint: we can do low rank approximation of the adjacency matrix for the computation of triangles, taking advantage of some of the “power-law” properties of real networks that we have seen in class]. \n",
    "\n",
    "### (2) Suppose that we approximate ∆(G) with ∆ ̃k(G). Compute and visualize the error of approximation for various values of k (i.e., how the error behaves as we increase the number of eigenvalues used in the computation of ∆ ̃ k (G)) How many eigenvalues should we retain to achieve good approximation? In the extreme case where all the |V | eigenvalues are used, ∆(G) = ∆ ̃ k=|V |(G)."
   ]
  },
  {
   "cell_type": "markdown",
   "metadata": {},
   "source": [
    "(d). (1) The problem is a computational bottleneck because we are dealing with a matrix of large size where the complexity of eigenvalue decomposition is O(n^3). Since we are dealing with a matrix of size 4158*4158, the worst case scenario of computing all eigenvalues of this matrix is approximately 72 billions of calculations. Therefore, in order to reduce the computational complexity of spectral triangle calculations, we can use low rank approximation with much fewer eigenvalues in order to obtain a smaller, yet accurate representation of the adjacency matrix."
   ]
  },
  {
   "cell_type": "code",
   "execution_count": 11,
   "metadata": {
    "collapsed": true,
    "scrolled": true
   },
   "outputs": [],
   "source": [
    "#extracts adjacency matrix of GCC\n",
    "adj_matrix = nx.adjacency_matrix(GCC)\n",
    "\n",
    "#converts sparse matrix as f type. Otherwise, I cannot compute the eigenvectors and eigenvalues\n",
    "adj_matrix = adj_matrix.asfptype()\n",
    "\n",
    "#computes eigenvectors and eigenvectors\n",
    "#Here I have to use the scipy.sparse library because numpy cannot perfom operations on sparse matrices\n",
    "eigenvals, eigenvecs = sparse.linalg.eigs(adj_matrix, k=100) #k is the number of eigenvals and eigenveccs I want"
   ]
  },
  {
   "cell_type": "code",
   "execution_count": 12,
   "metadata": {
    "collapsed": true
   },
   "outputs": [],
   "source": [
    "#function to directly compute the error of approximation of number of triangles\n",
    "def error(matrix, k = 100):\n",
    "    eigenvals, eigenvecs = sparse.linalg.eigs(matrix, k)\n",
    "    \n",
    "    #number obtained through previous question\n",
    "    real_triangle_num = 47779\n",
    "    \n",
    "    val_cub = 0\n",
    "    sum_of_val=0\n",
    "    \n",
    "    for val in eigenvals:\n",
    "        val_cub = val**3\n",
    "        sum_of_val += val_cub\n",
    "    \n",
    "    approx_triangle = sum_of_val/6\n",
    "    \n",
    "    error_k = abs(approx_triangle-real_triangle_num)/real_triangle_num\n",
    "    \n",
    "    return error_k"
   ]
  },
  {
   "cell_type": "code",
   "execution_count": 13,
   "metadata": {
    "collapsed": true
   },
   "outputs": [],
   "source": [
    "#list that will contain the values of all errors\n",
    "error_list = []\n",
    "for k in range(1,200):\n",
    "    error_list.append(error(adj_matrix,k))"
   ]
  },
  {
   "cell_type": "code",
   "execution_count": 16,
   "metadata": {},
   "outputs": [
    {
     "name": "stdout",
     "output_type": "stream",
     "text": [
      "(d). (2)\n"
     ]
    },
    {
     "data": {
      "image/png": "[encoded data removed]",
      "text/plain": [
       "<matplotlib.figure.Figure at 0x150fd113c8>"
      ]
     },
     "metadata": {},
     "output_type": "display_data"
    },
    {
     "name": "stdout",
     "output_type": "stream",
     "text": [
      "We will plot a second graph with fewer values in order to better see how many eigenvalues we should pick\n"
     ]
    },
    {
     "data": {
      "image/png": "[encoded data removed]",
      "text/plain": [
       "<matplotlib.figure.Figure at 0x1059b58d0>"
      ]
     },
     "metadata": {},
     "output_type": "display_data"
    },
    {
     "name": "stdout",
     "output_type": "stream",
     "text": [
      "Third graph with even fewer values\n"
     ]
    },
    {
     "data": {
      "image/png": "[encoded data removed]",
      "text/plain": [
       "<matplotlib.figure.Figure at 0x150fe104a8>"
      ]
     },
     "metadata": {},
     "output_type": "display_data"
    },
    {
     "name": "stdout",
     "output_type": "stream",
     "text": [
      "Based on these graphs, the error seems to converge to 0.1 starting at 20 eigenvalues. Thus, we can pick 20\n",
      "eigenvalues, which is fairly good computation-wise\n"
     ]
    }
   ],
   "source": [
    "print(\"(d). (2)\")\n",
    "k_range = []\n",
    "#first plot\n",
    "for i in range(1,200):\n",
    "    k_range.append(i)\n",
    "plt.plot(k_range,error_list)\n",
    "plt.xlabel(\"Number of eigenvalues\")\n",
    "plt.ylabel(\"Error\")\n",
    "plt.title(\"First graph with 200 eigenvalues\")\n",
    "plt.show()\n",
    "\n",
    "print(\"We will plot a second graph with fewer values in order to better see how many eigenvalues we should pick\")\n",
    "plt.plot(k_range[0:100],error_list[0:100])\n",
    "plt.xlabel(\"Number of eigenvalues\")\n",
    "plt.ylabel(\"Error\")\n",
    "plt.title(\"Second graph with 100 egeinvalues\")\n",
    "plt.show()\n",
    "\n",
    "print(\"Third graph with even fewer values\")\n",
    "plt.plot(k_range[0:25],error_list[0:25])\n",
    "plt.xlabel(\"Number of eigenvalues\")\n",
    "plt.ylabel(\"Error\")\n",
    "plt.title(\"Third graph with 25 eigenvalues\")\n",
    "plt.show()\n",
    "\n",
    "print(\"Based on these graphs, the error seems to converge to 0.1 starting at 20 eigenvalues. Thus, we can pick 20 eigenvalues, which is fairly good computation-wise\")\n"
   ]
  }
 ],
 "metadata": {
  "kernelspec": {
   "display_name": "Python 3",
   "language": "python",
   "name": "python3"
  },
  "language_info": {
   "codemirror_mode": {
    "name": "ipython",
    "version": 3
   },
   "file_extension": ".py",
   "mimetype": "text/x-python",
   "name": "python",
   "nbconvert_exporter": "python",
   "pygments_lexer": "ipython3",
   "version": "3.6.3"
  }
 },
 "nbformat": 4,
 "nbformat_minor": 2
}
